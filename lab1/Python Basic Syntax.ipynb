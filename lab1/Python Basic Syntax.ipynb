{
 "cells": [
  {
   "cell_type": "code",
   "execution_count": 1,
   "metadata": {},
   "outputs": [
    {
     "name": "stdout",
     "output_type": "stream",
     "text": [
      "3 True String!\n"
     ]
    }
   ],
   "source": [
    "#You declare the variable without type.\n",
    "a = 3\n",
    "b = True\n",
    "c = 'String!'\n",
    "print(a,b,c)"
   ]
  },
  {
   "cell_type": "code",
   "execution_count": 2,
   "metadata": {},
   "outputs": [
    {
     "name": "stdout",
     "output_type": "stream",
     "text": [
      "2.5\n",
      "2\n",
      "2\n",
      "(2, 1)\n"
     ]
    }
   ],
   "source": [
    "print(5/2)\n",
    "\n",
    "# these 2 lines yield the same result\n",
    "# 2 ways to yield integer result from division operation\n",
    "print(int(5/2))\n",
    "print(5//2)\n",
    "\n",
    "\n",
    "# Students can also use divmod(dividend, divisor) to get a tuple containing (integerresult, remainder)\n",
    "print(divmod(5, 2))\n"
   ]
  },
  {
   "cell_type": "code",
   "execution_count": 3,
   "metadata": {},
   "outputs": [
    {
     "name": "stdout",
     "output_type": "stream",
     "text": [
      "show array with for in\n",
      "1\n",
      "2\n",
      "3\n",
      "4\n",
      "5\n",
      "show array with for in range\n",
      "1\n",
      "2\n",
      "3\n",
      "4\n",
      "5\n",
      "show even numbers\n",
      "2\n",
      "4\n"
     ]
    }
   ],
   "source": [
    "#Loops\n",
    "arr = [1,2,3,4,5]\n",
    "print('show array with for in')\n",
    "for x in arr:\n",
    "    print(x)\n",
    "print('show array with for in range')\n",
    "for x in range(len(arr)):\n",
    "    print(arr[x])\n",
    "print('show even numbers')\n",
    "for x in arr:\n",
    "    if x%2 == 0:\n",
    "        print(x)\n"
   ]
  },
  {
   "cell_type": "code",
   "execution_count": 3,
   "metadata": {},
   "outputs": [
    {
     "name": "stdout",
     "output_type": "stream",
     "text": [
      "[0, 1, 2]\n",
      "[0 1 2 3 4 5]\n",
      "[0 0 0 3 4 5]\n",
      "[-1  1 -1  3 -1  5]\n"
     ]
    }
   ],
   "source": [
    "# Array Indexing:\n",
    "arr = [0,1,2,3,4,5]\n",
    "print(arr[0:3])\n",
    "\n",
    "import numpy as np\n",
    "\n",
    "\n",
    "origMat = np.array(arr)\n",
    "mat = np.copy(origMat)\n",
    "print(mat)\n",
    "mat[0:3] = 0\n",
    "print(mat)\n",
    "mat = np.copy(origMat)\n",
    "mat[(mat%2==0)] = -1\n",
    "print(mat)"
   ]
  },
  {
   "cell_type": "code",
   "execution_count": 2,
   "metadata": {},
   "outputs": [
    {
     "ename": "NameError",
     "evalue": "name 'np' is not defined",
     "output_type": "error",
     "traceback": [
      "\u001b[0;31m---------------------------------------------------------------------------\u001b[0m",
      "\u001b[0;31mNameError\u001b[0m                                 Traceback (most recent call last)",
      "Cell \u001b[0;32mIn[2], line 1\u001b[0m\n\u001b[0;32m----> 1\u001b[0m origMat \u001b[38;5;241m=\u001b[39m \u001b[43mnp\u001b[49m\u001b[38;5;241m.\u001b[39marray([\n\u001b[1;32m      2\u001b[0m                    [\u001b[38;5;241m1\u001b[39m,\u001b[38;5;241m2\u001b[39m,\u001b[38;5;241m3\u001b[39m,\u001b[38;5;241m4\u001b[39m,\u001b[38;5;241m5\u001b[39m],\n\u001b[1;32m      3\u001b[0m                    [\u001b[38;5;241m1\u001b[39m,\u001b[38;5;241m2\u001b[39m,\u001b[38;5;241m3\u001b[39m,\u001b[38;5;241m4\u001b[39m,\u001b[38;5;241m5\u001b[39m],\n\u001b[1;32m      4\u001b[0m                    [\u001b[38;5;241m1\u001b[39m,\u001b[38;5;241m2\u001b[39m,\u001b[38;5;241m3\u001b[39m,\u001b[38;5;241m4\u001b[39m,\u001b[38;5;241m5\u001b[39m]\n\u001b[1;32m      5\u001b[0m                    ])\n\u001b[1;32m      6\u001b[0m mat \u001b[38;5;241m=\u001b[39m np\u001b[38;5;241m.\u001b[39mcopy(origMat)\n\u001b[1;32m      7\u001b[0m \u001b[38;5;28mprint\u001b[39m(mat)\n",
      "\u001b[0;31mNameError\u001b[0m: name 'np' is not defined"
     ]
    }
   ],
   "source": [
    "origMat = np.array([\n",
    "                   [1,2,3,4,5],\n",
    "                   [1,2,3,4,5],\n",
    "                   [1,2,3,4,5]\n",
    "                   ])\n",
    "mat = np.copy(origMat)\n",
    "print(mat)\n",
    "mat[1:3,1:3] = 0\n",
    "print(mat)"
   ]
  },
  {
   "cell_type": "code",
   "execution_count": null,
   "metadata": {},
   "outputs": [],
   "source": [
    "arrZeros = np.zeros((6,5))\n",
    "arrOnes =np.ones((6,5))\n",
    "print(arrZeros)\n",
    "print(arrOnes)\n",
    "print(arrOnes.shape)\n",
    "print(arrOnes.shape[0])"
   ]
  },
  {
   "cell_type": "code",
   "execution_count": null,
   "metadata": {},
   "outputs": [],
   "source": [
    "# Shows the fact that Python uses KEYWORD ARGUMENTS as well as the traditional positional arguments.\n",
    "## Notice that: in the output of the first and second call to function fun are the same.\n",
    "## In the second call (using keywords arguments), sorting arguments is not needed.\n",
    "\n",
    "\n",
    "def fun(x,y,z):\n",
    "    print (x,y,z)\n",
    "    \n",
    "fun(1,2,3);\n",
    "fun(z=3,y=2,x=1)"
   ]
  },
  {
   "cell_type": "code",
   "execution_count": null,
   "metadata": {},
   "outputs": [],
   "source": [
    "#instead of NULL: None\n",
    "\n",
    "x = None\n",
    "if (x==None):\n",
    "    print('x is None')\n"
   ]
  },
  {
   "cell_type": "code",
   "execution_count": null,
   "metadata": {},
   "outputs": [],
   "source": []
  }
 ],
 "metadata": {
  "kernelspec": {
   "display_name": "Python 3",
   "language": "python",
   "name": "python3"
  },
  "language_info": {
   "codemirror_mode": {
    "name": "ipython",
    "version": 3
   },
   "file_extension": ".py",
   "mimetype": "text/x-python",
   "name": "python",
   "nbconvert_exporter": "python",
   "pygments_lexer": "ipython3",
   "version": "3.12.4"
  }
 },
 "nbformat": 4,
 "nbformat_minor": 2
}
